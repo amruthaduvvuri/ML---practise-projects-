{
  "nbformat": 4,
  "nbformat_minor": 0,
  "metadata": {
    "colab": {
      "provenance": [],
      "authorship_tag": "ABX9TyOZQnTPKNpr99K2gmT7Ktrp",
      "include_colab_link": true
    },
    "kernelspec": {
      "name": "python3",
      "display_name": "Python 3"
    },
    "language_info": {
      "name": "python"
    }
  },
  "cells": [
    {
      "cell_type": "markdown",
      "metadata": {
        "id": "view-in-github",
        "colab_type": "text"
      },
      "source": [
        "<a href=\"https://colab.research.google.com/github/amruthaduvvuri/ML---practise-projects-/blob/main/Keyword_Extractor.ipynb\" target=\"_parent\"><img src=\"https://colab.research.google.com/assets/colab-badge.svg\" alt=\"Open In Colab\"/></a>"
      ]
    },
    {
      "cell_type": "markdown",
      "source": [
        "Keywords can also be extracted from the given sentences using RAKE - Rapid Automatic Keyword Extraction along side NLTK(Natural Language ToolKit) , but here we will be using a combination of tokenization, part-of-speech tagging, and filtering to extract meaningful keywords.\n",
        "Other Methods that we can also use include :\n",
        "1. Spacy - is used to identity nouns and entities\n",
        "2. Term Frequency-Inverse Document Frequency - TF-IDF is a statistical method to evaluate the importance of words in a document"
      ],
      "metadata": {
        "id": "GcrNx_NoKkwM"
      }
    },
    {
      "cell_type": "markdown",
      "source": [
        "Importing Libraries"
      ],
      "metadata": {
        "id": "mxHNsl7MLAx6"
      }
    },
    {
      "cell_type": "code",
      "execution_count": null,
      "metadata": {
        "id": "tTbdNhlHKegB"
      },
      "outputs": [],
      "source": [
        "import nltk\n",
        "from nltk.corpus import stopwords # Library to handle common English stopwords\n",
        "from nltk.tokenize import word_tokenize # Tokenizer to split text into individual words\n",
        "from collections import Counter # Efficient way to count word frequencies"
      ]
    },
    {
      "cell_type": "markdown",
      "source": [
        " Download necessary NLTK resources for tokenization and stopwords"
      ],
      "metadata": {
        "id": "CjZRKHuaL-On"
      }
    },
    {
      "cell_type": "code",
      "source": [
        "nltk.download('punkt_tab')\n",
        "nltk.download('stopwords')"
      ],
      "metadata": {
        "colab": {
          "base_uri": "https://localhost:8080/"
        },
        "id": "p3k7NUUjLi8I",
        "outputId": "201de7b7-f280-4666-b7d4-e0835c5b08b6"
      },
      "execution_count": null,
      "outputs": [
        {
          "output_type": "stream",
          "name": "stderr",
          "text": [
            "[nltk_data] Downloading package punkt_tab to /root/nltk_data...\n",
            "[nltk_data]   Unzipping tokenizers/punkt_tab.zip.\n",
            "[nltk_data] Downloading package stopwords to /root/nltk_data...\n",
            "[nltk_data]   Package stopwords is already up-to-date!\n"
          ]
        },
        {
          "output_type": "execute_result",
          "data": {
            "text/plain": [
              "True"
            ]
          },
          "metadata": {},
          "execution_count": 4
        }
      ]
    },
    {
      "cell_type": "markdown",
      "source": [
        " Extracts the top `num_keywords` keywords from the given text by:\n",
        "    1. Tokenizing the text into individual words\n",
        "    2. Removing stopwords and non-alphabetic characters (like punctuation)\n",
        "    3. Counting the frequency of remaining words\n",
        "    4. Returning the most common keywords based on frequency\n",
        "\n",
        "    Parameters:\n",
        "    - text (str): The input text from which keywords need to be extracted.\n",
        "    - num_keywords (int): Number of top keywords to return (default is 5).\n",
        "\n",
        "    Returns:\n",
        "    - list: List of extracted keywords in descending order of frequency."
      ],
      "metadata": {
        "id": "JTu_8FWoMFWv"
      }
    },
    {
      "cell_type": "code",
      "source": [
        "def extract_keywords(text, num_keywords=5):\n",
        "  # Step 1: Tokenization - Split text into individual words\n",
        "    words = word_tokenize(text.lower())  # Convert text to lowercase to ensure uniformity\n",
        "\n",
        "    # Step 2: Removing stopwords and non-alphabetic characters\n",
        "    # Stopwords are common words like \"the\", \"is\", \"and\", etc., which usually don't add value\n",
        "    filtered_words = [word for word in words if word.isalpha() and word not in stopwords.words('english')]\n",
        "\n",
        "    # Step 3: Frequency count using Counter\n",
        "    word_freq = Counter(filtered_words)\n",
        "\n",
        "    # Step 4: Extract the most common keywords\n",
        "    # `.most_common(n)` returns the `n` most frequently occurring items as (word, frequency) pairs\n",
        "    keywords = word_freq.most_common(num_keywords)\n",
        "\n",
        "    # Extract only the keywords (ignoring their counts)\n",
        "    return [word for word, freq in keywords]\n",
        "\n",
        "# Example usage text\n",
        "text = \"The impact of artificial intelligence on modern technology is growing rapidly.\"\n",
        "\n",
        "# Display the extracted keywords\n",
        "print(extract_keywords(text))\n"
      ],
      "metadata": {
        "colab": {
          "base_uri": "https://localhost:8080/"
        },
        "id": "ex4aX3ZvMJxG",
        "outputId": "1a11a459-4882-4028-bf3d-d34aa03d5b9d"
      },
      "execution_count": null,
      "outputs": [
        {
          "output_type": "stream",
          "name": "stdout",
          "text": [
            "['impact', 'artificial', 'intelligence', 'modern', 'technology']\n"
          ]
        }
      ]
    },
    {
      "cell_type": "code",
      "source": [],
      "metadata": {
        "id": "bGziJzSfMQvu"
      },
      "execution_count": null,
      "outputs": []
    }
  ]
}